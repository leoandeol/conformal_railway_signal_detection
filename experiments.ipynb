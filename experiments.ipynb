{
 "cells": [
  {
   "cell_type": "markdown",
   "id": "e551a6f5",
   "metadata": {},
   "source": [
    "# Confident Object Detection via Conformal Prediction and Conformal Risk Control: an Application to Railway Signaling"
   ]
  },
  {
   "cell_type": "code",
   "execution_count": 1,
   "id": "a814ef8b",
   "metadata": {},
   "outputs": [],
   "source": [
    "%matplotlib inline\n",
    "import torch\n",
    "from confvision.data import TrotterDataset\n",
    "from confvision.models import DiffusionDet, DETR, YOLOv5\n",
    "from confvision.conformalizer import RiskConformalizer, Conformalizer"
   ]
  },
  {
   "cell_type": "code",
   "execution_count": 2,
   "id": "e322a784",
   "metadata": {},
   "outputs": [],
   "source": [
    "model = DiffusionDet()"
   ]
  },
  {
   "cell_type": "code",
   "execution_count": 3,
   "id": "e5dd7ee1",
   "metadata": {
    "scrolled": true
   },
   "outputs": [
    {
     "name": "stdout",
     "output_type": "stream",
     "text": [
      "Loading predictions from file\n",
      "Total number of ground truths: 1974\n",
      "Total number of predictions: 231459\n"
     ]
    }
   ],
   "source": [
    "cal_preds, test_preds = model.load_predictions()"
   ]
  },
  {
   "cell_type": "code",
   "execution_count": 4,
   "id": "798fb62c",
   "metadata": {},
   "outputs": [
    {
     "name": "stdout",
     "output_type": "stream",
     "text": [
      "Calibrating with alpha=0.1\n"
     ]
    },
    {
     "name": "stderr",
     "output_type": "stream",
     "text": [
      "100%|█████████████████████████████████████| 1914/1914 [00:00<00:00, 3535.63it/s]\n"
     ]
    },
    {
     "name": "stdout",
     "output_type": "stream",
     "text": [
      "Obtained margin = [4.59197998046875, 4.59197998046875, 4.59197998046875, 4.59197998046875]\n",
      "Coverage of predictions = 0.25 and of conformalized predictions = 0.94\n",
      "Temporary removing strethc\n",
      "Coverage of predictions = 0.21 and of conformalized predictions = 0.92\n",
      "Temporary removing strethc\n"
     ]
    }
   ],
   "source": [
    "conf_box_add_1c = Conformalizer(mode=\"box\", method=\"additive\", coordinate_wise=False)\n",
    "conf_box_add_1c.calibrate(cal_preds, objectness_threshold=0.3, iou_threshold=0.3, alpha=0.1)\n",
    "conf_box_add_1c.conformalize(test_preds);\n",
    "cal_preds.describe(objectness_threshold=0.3, iou_threshold=0.3)\n",
    "test_preds.describe(objectness_threshold=0.3, iou_threshold=0.3)"
   ]
  },
  {
   "cell_type": "code",
   "execution_count": 5,
   "id": "88b6f65f",
   "metadata": {},
   "outputs": [
    {
     "name": "stdout",
     "output_type": "stream",
     "text": [
      "Calibrating with alpha=0.1\n"
     ]
    },
    {
     "name": "stderr",
     "output_type": "stream",
     "text": [
      "100%|█████████████████████████████████████| 1914/1914 [00:00<00:00, 3820.59it/s]\n"
     ]
    },
    {
     "name": "stdout",
     "output_type": "stream",
     "text": [
      "Obtained margin = [3.3736114501953125, 9.7308349609375, 11.6104736328125, 5.64532470703125]\n",
      "Coverage of predictions = 0.25 and of conformalized predictions = 0.96\n",
      "Temporary removing strethc\n",
      "Coverage of predictions = 0.21 and of conformalized predictions = 0.96\n",
      "Temporary removing strethc\n"
     ]
    }
   ],
   "source": [
    "conf_box_add_4c = Conformalizer(mode=\"box\", method=\"additive\", coordinate_wise=True)\n",
    "conf_box_add_4c.calibrate(cal_preds, objectness_threshold=0.3, iou_threshold=0.3, alpha=0.1)\n",
    "conf_box_add_4c.conformalize(test_preds);\n",
    "cal_preds.describe(objectness_threshold=0.3, iou_threshold=0.3);\n",
    "test_preds.describe(objectness_threshold=0.3, iou_threshold=0.3);"
   ]
  },
  {
   "cell_type": "code",
   "execution_count": null,
   "id": "b358ac59",
   "metadata": {},
   "outputs": [],
   "source": []
  },
  {
   "cell_type": "code",
   "execution_count": null,
   "id": "67d6329a",
   "metadata": {},
   "outputs": [],
   "source": []
  },
  {
   "cell_type": "code",
   "execution_count": 6,
   "id": "50a6db50",
   "metadata": {},
   "outputs": [
    {
     "name": "stderr",
     "output_type": "stream",
     "text": [
      "[999.76, 1000.00] -> 999.88. Corrected Risk = 0.18: 100%|█| 13/13 [00:02<00:00, \n"
     ]
    }
   ],
   "source": [
    "add_crc = RiskConformalizer(loss=\"recall\", method=\"additive\")\n",
    "add_crc.calibrate(cal_preds, objectness_threshold=0.5, alpha=0.1)\n",
    "add_crc.conformalize(test_preds);"
   ]
  },
  {
   "cell_type": "code",
   "execution_count": 7,
   "id": "c7328521",
   "metadata": {},
   "outputs": [
    {
     "name": "stdout",
     "output_type": "stream",
     "text": [
      "Average risk of predictions = 0.17 and of conformalized predictions = 0.01\n",
      "Temporary removing strethc\n"
     ]
    }
   ],
   "source": [
    "test_preds.describe(mode=\"risk\", loss=\"recall\", objectness_threshold=0.3,)"
   ]
  },
  {
   "cell_type": "code",
   "execution_count": 8,
   "id": "7683cadc",
   "metadata": {},
   "outputs": [
    {
     "name": "stderr",
     "output_type": "stream",
     "text": [
      "[0.24, 0.49] -> 0.37. Corrected Risk = 0.10: 100%|█| 13/13 [00:03<00:00,  3.59it\n"
     ]
    }
   ],
   "source": [
    "add_crc = RiskConformalizer(loss=\"recall\", method=\"multiplicative\")\n",
    "add_crc.calibrate(cal_preds, objectness_threshold=0.3, alpha=0.1)\n",
    "add_crc.conformalize(test_preds);"
   ]
  },
  {
   "cell_type": "code",
   "execution_count": 9,
   "id": "fb3d577b",
   "metadata": {},
   "outputs": [
    {
     "name": "stdout",
     "output_type": "stream",
     "text": [
      "Average risk of predictions = 0.17 and of conformalized predictions = 0.09\n",
      "Temporary removing strethc\n"
     ]
    }
   ],
   "source": [
    "test_preds.describe(mode=\"risk\", loss=\"recall\", objectness_threshold=0.3,)"
   ]
  },
  {
   "cell_type": "code",
   "execution_count": 10,
   "id": "27fe9810",
   "metadata": {},
   "outputs": [
    {
     "name": "stderr",
     "output_type": "stream",
     "text": [
      "[19.29, 19.53] -> 19.41. Corrected Risk = 0.10: 100%|█| 13/13 [00:03<00:00,  3.8\n"
     ]
    }
   ],
   "source": [
    "add_crc = RiskConformalizer(loss=\"boxes\", method=\"additive\")\n",
    "add_crc.calibrate(cal_preds, objectness_threshold=0.3, alpha=0.1)\n",
    "add_crc.conformalize(test_preds);"
   ]
  },
  {
   "cell_type": "code",
   "execution_count": 11,
   "id": "230c901a",
   "metadata": {},
   "outputs": [
    {
     "name": "stdout",
     "output_type": "stream",
     "text": [
      "Average risk of predictions = 0.55 and of conformalized predictions = 0.10\n",
      "Temporary removing strethc\n"
     ]
    }
   ],
   "source": [
    "test_preds.describe(mode=\"risk\", loss=\"boxes\", objectness_threshold=0.3,)"
   ]
  },
  {
   "cell_type": "code",
   "execution_count": 12,
   "id": "00d2e026",
   "metadata": {},
   "outputs": [
    {
     "name": "stderr",
     "output_type": "stream",
     "text": [
      "[78.12, 78.37] -> 78.25. Corrected Risk = 0.10: 100%|█| 13/13 [00:03<00:00,  3.6\n"
     ]
    }
   ],
   "source": [
    "add_crc = RiskConformalizer(loss=\"degrancey\", method=\"additive\")\n",
    "add_crc.calibrate(cal_preds, objectness_threshold=0.3, alpha=0.1)\n",
    "add_crc.conformalize(test_preds);"
   ]
  },
  {
   "cell_type": "code",
   "execution_count": null,
   "id": "3c543dff",
   "metadata": {},
   "outputs": [],
   "source": [
    "test_preds.describe(mode=\"risk\", loss=\"degrancey\", objectness_threshold=0.3,)"
   ]
  },
  {
   "cell_type": "code",
   "execution_count": null,
   "id": "fa004f70",
   "metadata": {},
   "outputs": [],
   "source": []
  },
  {
   "cell_type": "code",
   "execution_count": null,
   "id": "b69b50eb",
   "metadata": {},
   "outputs": [],
   "source": [
    "for i in range(10):\n",
    "    test_preds.plot_img(i, score_threshold=0.5)"
   ]
  }
 ],
 "metadata": {
  "kernelspec": {
   "display_name": "Python 3 (ipykernel)",
   "language": "python",
   "name": "python3"
  },
  "language_info": {
   "codemirror_mode": {
    "name": "ipython",
    "version": 3
   },
   "file_extension": ".py",
   "mimetype": "text/x-python",
   "name": "python",
   "nbconvert_exporter": "python",
   "pygments_lexer": "ipython3",
   "version": "3.10.6"
  }
 },
 "nbformat": 4,
 "nbformat_minor": 5
}
